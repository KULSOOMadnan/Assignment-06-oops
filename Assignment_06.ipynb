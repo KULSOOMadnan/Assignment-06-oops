{
  "nbformat": 4,
  "nbformat_minor": 0,
  "metadata": {
    "colab": {
      "provenance": [],
      "collapsed_sections": [
        "Cgwd0uWCkRqZ",
        "WIvQqz-zk-Oq",
        "VGj5XxfLmSHr",
        "oLGFEwV2oGFj",
        "MmclfoDOvtWx",
        "pid-XwMHwoIB",
        "EJttuYqNxNWQ",
        "lvZ--_HhzE4w",
        "BtV4auoO9ltK",
        "75sfJ5Y8_Dmg",
        "5RPMgyUsVUXt",
        "UvenFe1nWuzI",
        "_ybjgfxBZyWc"
      ],
      "authorship_tag": "ABX9TyOCvMHrRI3kLXCKG+zsvFCt",
      "include_colab_link": true
    },
    "kernelspec": {
      "name": "python3",
      "display_name": "Python 3"
    },
    "language_info": {
      "name": "python"
    }
  },
  "cells": [
    {
      "cell_type": "markdown",
      "metadata": {
        "id": "view-in-github",
        "colab_type": "text"
      },
      "source": [
        "<a href=\"https://colab.research.google.com/github/KULSOOMadnan/Assignment-06-oops/blob/main/Assignment_06.ipynb\" target=\"_parent\"><img src=\"https://colab.research.google.com/assets/colab-badge.svg\" alt=\"Open In Colab\"/></a>"
      ]
    },
    {
      "cell_type": "markdown",
      "source": [
        "## **Assignment 01**\n",
        "\n",
        ">### **Using self**\n",
        "Create a class Student with attributes name and marks. Use the self keyword to initialize these values via a constructor. Add a method display() that prints student details.\n",
        "\n"
      ],
      "metadata": {
        "id": "Cgwd0uWCkRqZ"
      }
    },
    {
      "cell_type": "markdown",
      "source": [],
      "metadata": {
        "id": "v1i3D6i-kYI6"
      }
    },
    {
      "cell_type": "code",
      "source": [
        "# Create a class Student with attributes name and marks.\n",
        "class Student:\n",
        "\n",
        "  # se the self keyword to initialize these values via a constructor.\n",
        "  def __init__(self, name, marks):\n",
        "    self.name = name\n",
        "    self.marks = marks\n",
        "\n",
        "  # Add a method display() that prints student details.\n",
        "  def display(self):\n",
        "    print(\"Name:\", self.name)\n",
        "    print(\"Marks:\", self.marks)\n",
        "\n",
        "# Instance of a class (object)\n",
        "std1 = Student(\"John\", 90)\n",
        "std1.display()\n",
        "\n"
      ],
      "metadata": {
        "id": "Cud13PbGkZLD"
      },
      "execution_count": null,
      "outputs": []
    },
    {
      "cell_type": "markdown",
      "source": [
        "# **Assignment: 02**\n",
        ">### **Using cls**\n",
        "Create a class Counter that keeps track of how many objects have been created. Use a class variable and a class method with cls to manage and display the count."
      ],
      "metadata": {
        "id": "WIvQqz-zk-Oq"
      }
    },
    {
      "cell_type": "code",
      "source": [
        "class Counter:\n",
        "    # Class variable to keep track of the number of instances\n",
        "    _count = 0\n",
        "\n",
        "    def __init__(self):\n",
        "        # Each time an object is created, increment the count\n",
        "        Counter._count += 1\n",
        "\n",
        "    @classmethod\n",
        "    def get_count(cls):\n",
        "        # Return the current count using cls\n",
        "        return cls._count\n",
        "\n",
        "\n",
        "# Example usage:\n",
        "a = Counter()\n",
        "b = Counter()\n",
        "c = Counter()\n",
        "\n",
        "print(\"Number of Counter instances created:\", Counter.get_count())\n"
      ],
      "metadata": {
        "colab": {
          "base_uri": "https://localhost:8080/"
        },
        "id": "BL9j7KJvllzp",
        "outputId": "0eb8d15e-6618-4dab-82a7-ab92b87ab13e"
      },
      "execution_count": 1,
      "outputs": [
        {
          "output_type": "stream",
          "name": "stdout",
          "text": [
            "Number of Counter instances created: 3\n"
          ]
        }
      ]
    },
    {
      "cell_type": "markdown",
      "source": [
        "# **Assignment: 03**\n",
        "###**Public Variables and Methods**\n",
        "\n",
        "Create a class Car with a public variable brand and a public method start(). Instantiate the class and access both from outside the class."
      ],
      "metadata": {
        "id": "VGj5XxfLmSHr"
      }
    },
    {
      "cell_type": "code",
      "source": [
        "class Car:\n",
        "    def __init__(self, brand):\n",
        "        # Public variable\n",
        "        self.brand = brand\n",
        "\n",
        "    # Public method\n",
        "    def start(self):\n",
        "        print(f\"The {self.brand} car is starting...\")\n",
        "\n",
        "# Create an instance of Car\n",
        "my_car = Car(\"Toyota\")\n",
        "\n",
        "# Access the public variable\n",
        "print(\"Brand:\", my_car.brand)\n",
        "\n",
        "# Call the public method\n",
        "my_car.start()\n"
      ],
      "metadata": {
        "colab": {
          "base_uri": "https://localhost:8080/"
        },
        "id": "T1hEBSgWmZMg",
        "outputId": "c6806282-c28d-4c11-b2fb-6f0dd4cf194d"
      },
      "execution_count": 2,
      "outputs": [
        {
          "output_type": "stream",
          "name": "stdout",
          "text": [
            "Brand: Toyota\n",
            "The Toyota car is starting...\n"
          ]
        }
      ]
    },
    {
      "cell_type": "markdown",
      "source": [],
      "metadata": {
        "id": "b5NFCBdMmz-G"
      }
    },
    {
      "cell_type": "markdown",
      "source": [
        "# **Assignment: 04**\n",
        ">### **Class Variables and Class Methods**\n",
        "Create a class Bank with a class variable bank_name. Add a class method change_bank_name(cls, name) that allows changing the bank name. Show that it affects all instances."
      ],
      "metadata": {
        "id": "oLGFEwV2oGFj"
      }
    },
    {
      "cell_type": "code",
      "source": [
        "class Bank:\n",
        "    # Class variable\n",
        "    bank_name = \"Nationl Bank \"\n",
        "\n",
        "    def __init__(self, account_holder):\n",
        "        self.account_holder = account_holder\n",
        "\n",
        "    @classmethod\n",
        "    def change_bank_name(cls, name):\n",
        "        cls.bank_name = name\n",
        "\n",
        "    def show_bank_info(self):\n",
        "        print(f\"Account Holder: {self.account_holder}, Bank: {self.bank_name}\")\n",
        "\n",
        "# Creating instances\n",
        "customer1 = Bank(\"Alice\")\n",
        "customer2 = Bank(\"Bob\")\n",
        "\n",
        "# Showing bank info before changing the bank name\n",
        "print(f'======== Before changing the bank name ======\\n')\n",
        "customer1.show_bank_info()\n",
        "customer2.show_bank_info()\n",
        "\n",
        "# Changing bank name using class method\n",
        "Bank.change_bank_name(\"Meezan Bank\")\n",
        "\n",
        "# Showing bank info after changing the bank name\n",
        "print('\\n======== After changing the bank name ====== \\n')\n",
        "\n",
        "customer1.show_bank_info()\n",
        "customer2.show_bank_info()\n"
      ],
      "metadata": {
        "colab": {
          "base_uri": "https://localhost:8080/"
        },
        "id": "-HSM2dYMoPk_",
        "outputId": "adaf5268-0414-42fa-e95d-0365d3124720"
      },
      "execution_count": 8,
      "outputs": [
        {
          "output_type": "stream",
          "name": "stdout",
          "text": [
            "======== Before changing the bank name ======\n",
            "\n",
            "Account Holder: Alice, Bank: Nationl Bank \n",
            "Account Holder: Bob, Bank: Nationl Bank \n",
            "\n",
            "======== After changing the bank name ====== \n",
            "\n",
            "Account Holder: Alice, Bank: Meezan Bank\n",
            "Account Holder: Bob, Bank: Meezan Bank\n"
          ]
        }
      ]
    },
    {
      "cell_type": "markdown",
      "source": [],
      "metadata": {
        "id": "2XdnPHram7j-"
      }
    },
    {
      "cell_type": "markdown",
      "source": [],
      "metadata": {
        "id": "7cJ07kZEvriH"
      }
    },
    {
      "cell_type": "markdown",
      "source": [
        "#**Assignment: 05**\n",
        "### **Static Variables and Static Methods**\n",
        "Create a class MathUtils with a static method add(a, b) that returns the sum. No class or instance variables should be used."
      ],
      "metadata": {
        "id": "MmclfoDOvtWx"
      }
    },
    {
      "cell_type": "code",
      "source": [
        "class MathUtils:\n",
        "    @staticmethod\n",
        "    def add(a, b):\n",
        "        return a + b\n",
        "\n",
        "# Example usage\n",
        "print(\"Sum:\", MathUtils.add(10, 15))\n"
      ],
      "metadata": {
        "colab": {
          "base_uri": "https://localhost:8080/"
        },
        "id": "qfM91h1fv6jS",
        "outputId": "8d3f4fbd-690d-4a17-e5aa-c70928ac2a33"
      },
      "execution_count": 13,
      "outputs": [
        {
          "output_type": "stream",
          "name": "stdout",
          "text": [
            "Sum: 12\n"
          ]
        }
      ]
    },
    {
      "cell_type": "markdown",
      "source": [],
      "metadata": {
        "id": "zEkP9rNbwINq"
      }
    },
    {
      "cell_type": "markdown",
      "source": [
        "# **Assignment: 06**\n",
        "### **Constructors and Destructors**\n",
        "Create a class Logger that prints a message when an object is created (constructor) and another message when it is destroyed (destructor).\n",
        "\n"
      ],
      "metadata": {
        "id": "ZwEEBXVFwXkA"
      }
    },
    {
      "cell_type": "code",
      "source": [
        "class Logger:\n",
        "    def __init__(self):\n",
        "        print(\"Logger object created.\")\n",
        "\n",
        "    def __del__(self):\n",
        "        print(\"Logger object destroyed.\")\n",
        "\n",
        "# Example usage\n",
        "logger = Logger()\n",
        "\n",
        "# You can force deletion to see the destructor in action (optional)\n",
        "del logger\n",
        "\n",
        "# Or let Python's garbage collector handle it automatically when the program ends\n"
      ],
      "metadata": {
        "colab": {
          "base_uri": "https://localhost:8080/"
        },
        "id": "z2zZxHbZwh8S",
        "outputId": "8bdedd09-9c60-4177-d316-00e1120ae660"
      },
      "execution_count": 14,
      "outputs": [
        {
          "output_type": "stream",
          "name": "stdout",
          "text": [
            "Logger object created.\n",
            "Logger object destroyed.\n"
          ]
        }
      ]
    },
    {
      "cell_type": "markdown",
      "source": [
        "## **Assignment : 07**\n",
        "### **Access Modifiers: Public, Private, and Protected**\n",
        "* Create a class Employee with:\n",
        "\n",
        "* a public variable name,\n",
        "\n",
        "* a protected variable _salary, and\n",
        "\n",
        "* a private variable __ssn.\n",
        "\n",
        "Try accessing all three variables from an object of the class and document what happens."
      ],
      "metadata": {
        "id": "pid-XwMHwoIB"
      }
    },
    {
      "cell_type": "code",
      "source": [
        "class Employee:\n",
        "    def __init__(self, name, salary, ssn):\n",
        "        self.name = name          # Public variable - accessible anywhere\n",
        "        self._salary = salary     # Protected variable - accessible outside but should be treated as internal\n",
        "        self.__ssn = ssn          # Private variable - not directly accessible outside the class\n",
        "\n",
        "# Create an object\n",
        "emp = Employee(\"Alice\", 50000, \"123-45-6789\")\n",
        "\n",
        "# 1. Accessing public variable\n",
        "# Works fine. Public variables can be accessed directly.\n",
        "print(\"Public - Name:\", emp.name)\n",
        "\n",
        "# 2. Accessing protected variable\n",
        "# Also works. Python allows it, but by convention, it should be used only within the class or subclasses.\n",
        "print(\"Protected - Salary:\", emp._salary)\n",
        "\n",
        "# 3. Accessing private variable directly\n",
        "# This will raise an AttributeError because __ssn is name-mangled and not directly accessible.\n",
        "try:\n",
        "    print(\"Private - SSN:\", emp.__ssn)\n",
        "except AttributeError as e:\n",
        "    print(\"Private - SSN: Cannot access directly:\", e)\n",
        "\n",
        "# 4. Accessing private variable using name mangling\n",
        "# Works by accessing the mangled name _Employee__ssn.\n",
        "# This is not recommended unless absolutely necessary.\n",
        "print(\"Private - SSN (via name mangling):\", emp._Employee__ssn)\n"
      ],
      "metadata": {
        "colab": {
          "base_uri": "https://localhost:8080/"
        },
        "id": "b-8VFIdzw7Dy",
        "outputId": "4b70f0f6-80aa-43c0-8ee9-845ef5fad107"
      },
      "execution_count": 15,
      "outputs": [
        {
          "output_type": "stream",
          "name": "stdout",
          "text": [
            "Public - Name: Alice\n",
            "Protected - Salary: 50000\n",
            "Private - SSN: Cannot access directly: 'Employee' object has no attribute '__ssn'\n",
            "Private - SSN (via name mangling): 123-45-6789\n"
          ]
        }
      ]
    },
    {
      "cell_type": "markdown",
      "source": [
        "# **Assignment : 08**\n",
        "### **The super() Function**\n",
        "Create a class Person with a constructor that sets the name. Inherit a class Teacher from it, add a subject field, and use super() to call the base class constructor."
      ],
      "metadata": {
        "id": "EJttuYqNxNWQ"
      }
    },
    {
      "cell_type": "code",
      "source": [
        "# Base class / Parent Class\n",
        "class Person:\n",
        "    def __init__(self, name):\n",
        "        self.name = name\n",
        "\n",
        "# Derived class / child class / Inherit\n",
        "class Teacher(Person):\n",
        "    def __init__(self, name, subject):\n",
        "        # Calling the constructor of the base class using super()\n",
        "        super().__init__(name)\n",
        "        self.subject = subject\n",
        "\n",
        "    def display(self):\n",
        "        print(f\"Name: {self.name}, Subject: {self.subject}\")\n",
        "\n",
        "# Creating an instance of Teacher\n",
        "teacher1 = Teacher(\"John Doe\", \"Mathematics\")\n",
        "teacher1.display()\n"
      ],
      "metadata": {
        "colab": {
          "base_uri": "https://localhost:8080/"
        },
        "id": "Fm61jvBexWIM",
        "outputId": "c5cc89c3-f4ec-4c12-c740-1cbb10b90e7a"
      },
      "execution_count": 16,
      "outputs": [
        {
          "output_type": "stream",
          "name": "stdout",
          "text": [
            "Name: John Doe, Subject: Mathematics\n"
          ]
        }
      ]
    },
    {
      "cell_type": "markdown",
      "source": [
        "# **Assignment : 09**\n",
        "### **Abstract Classes and Methods**\n",
        "Use the abc module to create an abstract class Shape with an abstract method area(). Inherit a class Rectangle that implements area().\n",
        "\n"
      ],
      "metadata": {
        "id": "lvZ--_HhzE4w"
      }
    },
    {
      "cell_type": "code",
      "source": [
        "from abc import ABC, abstractmethod\n",
        "\n",
        "# Abstract base class\n",
        "class Shape(ABC):\n",
        "    @abstractmethod\n",
        "    def area(self):\n",
        "        pass\n",
        "\n",
        "# Subclass that implements the abstract method\n",
        "class Rectangle(Shape):\n",
        "    def __init__(self, width, height):\n",
        "        self.width = width\n",
        "        self.height = height\n",
        "\n",
        "    def area(self):\n",
        "        return self.width * self.height\n",
        "\n",
        "# Testing it out\n",
        "rect = Rectangle(5, 3)\n",
        "print(f\"The area of the rectangle is: {rect.area()}\")\n"
      ],
      "metadata": {
        "colab": {
          "base_uri": "https://localhost:8080/"
        },
        "id": "o5OD_f5P0k6w",
        "outputId": "b48c82e2-550e-4193-cbc3-e49c6a41957b"
      },
      "execution_count": 17,
      "outputs": [
        {
          "output_type": "stream",
          "name": "stdout",
          "text": [
            "The area of the rectangle is: 15\n"
          ]
        }
      ]
    },
    {
      "cell_type": "markdown",
      "source": [
        "# **Assignment: 10**\n",
        "### **Instance Methods**\n",
        "Create a class Dog with instance variables name and breed. Add an instance method bark() that prints a message including the dog's name.\n",
        "\n"
      ],
      "metadata": {
        "id": "VW6aQhFS3uX_"
      }
    },
    {
      "cell_type": "code",
      "source": [
        "class Dog:\n",
        "    def __init__(self, name, breed):\n",
        "      # Intance Variable\n",
        "        self.name = name\n",
        "        self.breed = breed\n",
        "    # instance Variable\n",
        "    def bark(self):\n",
        "        print(f\"{self.name} says: Woof woof! 🐾\")\n",
        "\n",
        "# Example usage:\n",
        "my_dog = Dog(\"Bruno\", \"German Shepherd\")\n",
        "my_dog.bark()  # Output: Bruno says: Woof woof! 🐾\n"
      ],
      "metadata": {
        "colab": {
          "base_uri": "https://localhost:8080/"
        },
        "id": "f0zTdz6P4IPS",
        "outputId": "6004dbdf-e8e0-4d16-b01d-78e4ced406ec"
      },
      "execution_count": 18,
      "outputs": [
        {
          "output_type": "stream",
          "name": "stdout",
          "text": [
            "Bruno says: Woof woof! 🐾\n"
          ]
        }
      ]
    },
    {
      "cell_type": "markdown",
      "source": [],
      "metadata": {
        "id": "ZSznOgQP4SSk"
      }
    },
    {
      "cell_type": "markdown",
      "source": [
        "## **Assignment: 11**\n",
        "### **Class Methods**\n",
        "Create a class Book with a class variable total_books. Add a class method increment_book_count() to increase the count when a new book is added."
      ],
      "metadata": {
        "id": "WIK0tX1H4oYT"
      }
    },
    {
      "cell_type": "code",
      "source": [
        "class Book:\n",
        "    # Class variables\n",
        "    total_books = 0\n",
        "    book_list = []\n",
        "\n",
        "    def __init__(self, title, author):\n",
        "        self.title = title\n",
        "        self.author = author\n",
        "        # Increment book count and add to book list when a new book is created\n",
        "        Book.increment_book_count()\n",
        "        Book.add_book_to_list(self.title, self.author)\n",
        "\n",
        "    @classmethod\n",
        "    def increment_book_count(cls):\n",
        "        cls.total_books += 1\n",
        "        print(f\"Total books: {cls.total_books}\")\n",
        "\n",
        "    @classmethod\n",
        "    def add_book_to_list(cls, title, author):\n",
        "        cls.book_list.append({\"title\": title, \"author\": author})\n",
        "\n",
        "    @staticmethod\n",
        "    def display_book_info(book):\n",
        "        return f\"'{book['title']}' by {book['author']}\"\n",
        "\n",
        "# Example usage:\n",
        "book1 = Book(\"Harry Potter\", \"J.K. Rowling\")\n",
        "book2 = Book(\"The Hobbit\", \"J.R.R. Tolkien\")\n",
        "book3 = Book(\"1984\", \"George Orwell\")\n",
        "\n",
        "# Accessing the list of books:\n",
        "print(\"\\nBook List:\")\n",
        "for book in Book.book_list:\n",
        "    print(Book.display_book_info(book))\n"
      ],
      "metadata": {
        "colab": {
          "base_uri": "https://localhost:8080/"
        },
        "id": "TF2--NJp4tMX",
        "outputId": "de92fb0d-4103-4ba6-b42f-8c8faf0d3d81"
      },
      "execution_count": 19,
      "outputs": [
        {
          "output_type": "stream",
          "name": "stdout",
          "text": [
            "Total books: 1\n",
            "Total books: 2\n",
            "Total books: 3\n"
          ]
        }
      ]
    },
    {
      "cell_type": "markdown",
      "source": [
        "# **Assignment: 12**\n",
        "### **Static Methods**\n",
        "Create a class TemperatureConverter with a static method celsius_to_fahrenheit(c) that returns the Fahrenheit value."
      ],
      "metadata": {
        "id": "BtV4auoO9ltK"
      }
    },
    {
      "cell_type": "code",
      "source": [
        "class TemperatureConverter:\n",
        "\n",
        "    @staticmethod\n",
        "    def celsius_to_fahrenheit(c):\n",
        "        return (c * 9/5) + 32\n",
        "\n",
        "# Example usage:\n",
        "celsius_temp = 25\n",
        "fahrenheit_temp = TemperatureConverter.celsius_to_fahrenheit(celsius_temp)\n",
        "print(f\"{celsius_temp}°C is equal to {fahrenheit_temp}°F\")\n"
      ],
      "metadata": {
        "id": "jeaAy4pf91PT"
      },
      "execution_count": null,
      "outputs": []
    },
    {
      "cell_type": "markdown",
      "source": [],
      "metadata": {
        "id": "nK918-0P93iL"
      }
    },
    {
      "cell_type": "markdown",
      "source": [
        "# **Assignment: 13**\n",
        "### **Composition**\n",
        "Create a class Engine and a class Car. Use composition by passing an Engine object to the Car class during initialization. Access a method of the Engine class via the Car class."
      ],
      "metadata": {
        "id": "75sfJ5Y8_Dmg"
      }
    },
    {
      "cell_type": "code",
      "source": [
        "# Engine class represents the engine of a car\n",
        "class Engine:\n",
        "    def __init__(self, engine_type):\n",
        "        self.engine_type = engine_type\n",
        "\n",
        "    # Method to start the engine\n",
        "    def start_engine(self):\n",
        "        return f\"The {self.engine_type} engine is now running.\"\n",
        "\n",
        "# Car class represents a car, and it contains an Engine object (Composition)\n",
        "class Car:\n",
        "    def __init__(self, make, model, engine):\n",
        "        self.make = make\n",
        "        self.model = model\n",
        "        self.engine = engine  # This is where we are using Composition by passing Engine object\n",
        "\n",
        "    # Method to start the car, which internally uses the Engine's start_engine method\n",
        "    def start_car(self):\n",
        "        return f\"{self.make} {self.model}: {self.engine.start_engine()}\"\n",
        "\n",
        "# Example usage:\n",
        "\n",
        "# Creating an Engine object\n",
        "my_engine = Engine(\"V8\")\n",
        "\n",
        "# Creating a Car object and passing the Engine object to it\n",
        "my_car = Car(\"Ford\", \"Mustang\", my_engine)\n",
        "\n",
        "# Calling the Car method to start the car, which uses the Engine's start_engine method\n",
        "print(my_car.start_car())  # Output: Ford Mustang: The V8 engine is now running.\n"
      ],
      "metadata": {
        "id": "bk6UPWxu_Acy"
      },
      "execution_count": null,
      "outputs": []
    },
    {
      "cell_type": "code",
      "source": [],
      "metadata": {
        "id": "3ccRXWrZ-_6E"
      },
      "execution_count": null,
      "outputs": []
    },
    {
      "cell_type": "markdown",
      "source": [
        "# **Assignment: 14**\n",
        "### **Aggregation**\n",
        "Create a class Department and a class Employee. Use aggregation by having a Department object store a reference to an Employee object that exists independently of it."
      ],
      "metadata": {
        "id": "GzrzDflo_T3O"
      }
    },
    {
      "cell_type": "code",
      "source": [
        "# Employee class exists on its own\n",
        "class Employee:\n",
        "    def __init__(self, name, emp_id):\n",
        "        self.name = name\n",
        "        self.emp_id = emp_id\n",
        "\n",
        "    def get_details(self):\n",
        "        return f\"Employee Name: {self.name}, ID: {self.emp_id}\"\n",
        "\n",
        "# Department class has an aggregation relationship with Employee\n",
        "class Department:\n",
        "    def __init__(self, dept_name, employee):\n",
        "        self.dept_name = dept_name\n",
        "        self.employee = employee  # <-- Aggregation: Just referencing, not owning\n",
        "\n",
        "    def show_department_info(self):\n",
        "        return f\"Department: {self.dept_name} | {self.employee.get_details()}\"\n"
      ],
      "metadata": {
        "id": "ZI-6EQ2jA0I2"
      },
      "execution_count": 21,
      "outputs": []
    },
    {
      "cell_type": "code",
      "source": [
        "# Creating an Employee instance\n",
        "emp1 = Employee(\"Ali\", 101)\n",
        "\n",
        "# Creating a Department instance and passing the existing Employee\n",
        "dept1 = Department(\"IT\", emp1)\n",
        "\n",
        "# Displaying Department info which uses the Employee info\n",
        "print(dept1.show_department_info())\n",
        "\n",
        "# Still have access to Employee even if Department is deleted\n",
        "del dept1\n",
        "print(emp1.get_details())  # Employee still exists and is fully functional\n"
      ],
      "metadata": {
        "colab": {
          "base_uri": "https://localhost:8080/"
        },
        "id": "FW2LOxYBA8BE",
        "outputId": "24170ee6-17b4-453d-a767-1ef4c424adc7"
      },
      "execution_count": 22,
      "outputs": [
        {
          "output_type": "stream",
          "name": "stdout",
          "text": [
            "Department: IT | Employee Name: Ali, ID: 101\n",
            "Employee Name: Ali, ID: 101\n"
          ]
        }
      ]
    },
    {
      "cell_type": "markdown",
      "source": [
        "# **Assignment: 15**\n",
        "### **Method Resolution Order (MRO) and Diamond Inheritance**\n",
        "Create four classes:\n",
        "\n",
        "A with a method show(),\n",
        "\n",
        "B and C that inherit from A and override show(),\n",
        "\n",
        "D that inherits from both B and C.\n",
        "\n",
        "Create an object of D and call show() to observe MRO."
      ],
      "metadata": {
        "id": "lbMMiriGBHKh"
      }
    },
    {
      "cell_type": "code",
      "source": [],
      "metadata": {
        "id": "st5fkMECVisy"
      },
      "execution_count": null,
      "outputs": []
    },
    {
      "cell_type": "code",
      "source": [
        "class A:\n",
        "    def show(self):\n",
        "        print(\"A's show method\")\n",
        "\n",
        "class B(A):\n",
        "    def show(self):\n",
        "        print(\"B's show method\")\n",
        "\n",
        "class C(A):\n",
        "    def show(self):\n",
        "        print(\"C's show method\")\n",
        "\n",
        "# Class D inherits from both B and C (this forms the diamond shape)\n",
        "class D(B, C):\n",
        "    pass\n",
        "\n",
        "# Create an object of D\n",
        "d = D()\n",
        "\n",
        "# Call the show method\n",
        "d.show()\n",
        "\n",
        "# Check the Method Resolution Order\n",
        "print(D.__mro__)  # Tuple that shows the MRO\n"
      ],
      "metadata": {
        "colab": {
          "base_uri": "https://localhost:8080/"
        },
        "id": "XPF6g53EBOk4",
        "outputId": "2ea7cbb8-88f8-4979-b495-f2477210ac59"
      },
      "execution_count": 23,
      "outputs": [
        {
          "output_type": "stream",
          "name": "stdout",
          "text": [
            "B's show method\n",
            "(<class '__main__.D'>, <class '__main__.B'>, <class '__main__.C'>, <class '__main__.A'>, <class 'object'>)\n"
          ]
        }
      ]
    },
    {
      "cell_type": "markdown",
      "source": [
        "----"
      ],
      "metadata": {
        "id": "Mg81rXngWrXU"
      }
    },
    {
      "cell_type": "markdown",
      "source": [],
      "metadata": {
        "id": "kETAsVZkVRSJ"
      }
    },
    {
      "cell_type": "markdown",
      "source": [
        "## **Function Decorators**\n",
        "## **Assignment: 16**\n",
        "Write a decorator function log_function_call that prints \"Function is being called\" before a function executes. Apply it to a function say_hello().\n",
        "\n"
      ],
      "metadata": {
        "id": "5RPMgyUsVUXt"
      }
    },
    {
      "cell_type": "code",
      "source": [],
      "metadata": {
        "id": "jNQ5Hq1OVc7G"
      },
      "execution_count": null,
      "outputs": []
    },
    {
      "cell_type": "code",
      "source": [
        "# Step 1: Create the decorator\n",
        "def log_function_call(func):\n",
        "    def wrapper():\n",
        "        print(\"Function is being called\")  # runs before the actual function\n",
        "        func()  # now run the real function\n",
        "    return wrapper  # return the wrapped version\n",
        "\n",
        "# Step 2: Apply it using @decorator_name\n",
        "@log_function_call\n",
        "def say_hello():\n",
        "    print(\"Hello there!\")\n",
        "\n",
        "# Step 3: Call the function\n",
        "say_hello()\n"
      ],
      "metadata": {
        "id": "XHMOrm_YULRh"
      },
      "execution_count": null,
      "outputs": []
    },
    {
      "cell_type": "code",
      "source": [],
      "metadata": {
        "id": "bVKV88kCVd-i"
      },
      "execution_count": null,
      "outputs": []
    },
    {
      "cell_type": "markdown",
      "source": [
        "## **Assignment: 17**\n",
        "### **Class Decorators**\n",
        "Create a class decorator add_greeting that modifies a class to add a greet() method returning \"Hello from Decorator!\". Apply it to a class Person."
      ],
      "metadata": {
        "id": "qGwwfp3MVoz9"
      }
    },
    {
      "cell_type": "code",
      "source": [
        "# Step 1: Define the class decorator\n",
        "def add_greeting(cls):\n",
        "    # Add a greet method dynamically to the class\n",
        "    def greet(self):\n",
        "        return \"Hello from Decorator!\"\n",
        "\n",
        "    # Attach it to the class\n",
        "    cls.greet = greet\n",
        "\n",
        "    # Return the modified class\n",
        "    return cls\n",
        "\n",
        "# Step 2: Apply the decorator to a class\n",
        "@add_greeting\n",
        "class Person:\n",
        "    def __init__(self, name):\n",
        "        self.name = name\n",
        "\n",
        "# Step 3: Create an instance and test\n",
        "p = Person(\"Zayn\")\n",
        "print(p.greet())  # Output: Hello from Decorator!\n"
      ],
      "metadata": {
        "colab": {
          "base_uri": "https://localhost:8080/"
        },
        "id": "3zXPt8h9Wf65",
        "outputId": "662316b0-3165-438c-896a-55513c78be0e"
      },
      "execution_count": 1,
      "outputs": [
        {
          "output_type": "stream",
          "name": "stdout",
          "text": [
            "Hello from Decorator!\n"
          ]
        }
      ]
    },
    {
      "cell_type": "markdown",
      "source": [
        "# **Assignment: 18**\n",
        "## **Property Decorators: @property, @setter, and @deleter**\n",
        "Create a class Product with a private attribute _price. Use @property to get the price, @price.setter to update it, and @price.deleter to delete it."
      ],
      "metadata": {
        "id": "UvenFe1nWuzI"
      }
    },
    {
      "cell_type": "code",
      "source": [
        "class Product:\n",
        "    def __init__(self, price):\n",
        "        self._price = price  # 👈 private-ish (Python style)\n",
        "\n",
        "    # Getter\n",
        "    @property\n",
        "    def price(self):\n",
        "        print(\"Getting price...\")\n",
        "        return self._price\n",
        "\n",
        "    # Setter\n",
        "    @price.setter\n",
        "    def price(self, value):\n",
        "        print(\"Setting price...\")\n",
        "        if value < 0:\n",
        "            raise ValueError(\"Bruh, price can’t be negative 😑\")\n",
        "        self._price = value\n",
        "\n",
        "    # Deleter\n",
        "    @price.deleter\n",
        "    def price(self):\n",
        "        print(\"Deleting price...\")\n",
        "        del self._price\n"
      ],
      "metadata": {
        "id": "aZYSgy2MW7nB"
      },
      "execution_count": null,
      "outputs": []
    },
    {
      "cell_type": "code",
      "source": [
        "p = Product(100)\n",
        "\n",
        "print(p.price)      # Getting price... → 100\n",
        "p.price = 150       # Setting price...\n",
        "print(p.price)      # Getting price... → 150\n",
        "\n",
        "del p.price         # Deleting price...\n",
        "# print(p.price)    # ❌ Will error now since _price is gone\n"
      ],
      "metadata": {
        "id": "uf9nAqfvX8PF"
      },
      "execution_count": null,
      "outputs": []
    },
    {
      "cell_type": "code",
      "source": [],
      "metadata": {
        "id": "EJ-Rkf_IZsqz"
      },
      "execution_count": null,
      "outputs": []
    },
    {
      "cell_type": "code",
      "source": [],
      "metadata": {
        "id": "o8QU4pOTZwfG"
      },
      "execution_count": null,
      "outputs": []
    },
    {
      "cell_type": "markdown",
      "source": [
        "# **Assignment: 19**\n",
        "## **callable() and __call__()**\n",
        "Create a class Multiplier with an __init__() to set a factor. Define a __call__() method that multiplies an input by the factor. Test it with callable() and by calling the object like a function."
      ],
      "metadata": {
        "id": "_ybjgfxBZyWc"
      }
    },
    {
      "cell_type": "code",
      "source": [
        "class Multiplier:\n",
        "    def __init__(self, factor):\n",
        "        self.factor = factor\n",
        "\n",
        "    def __call__(self, value):\n",
        "        return self.factor * value\n",
        "\n",
        "m = Multiplier(5)\n",
        "\n",
        "print(callable(m))     # True, because we defined __call__\n",
        "print(m(10))           # 50 → like a function!\n",
        "print(m(7))            # 35\n"
      ],
      "metadata": {
        "colab": {
          "base_uri": "https://localhost:8080/"
        },
        "id": "Sjzg7a7EZ8DA",
        "outputId": "775ba959-5a7e-42b1-b565-db91e47ba477"
      },
      "execution_count": 2,
      "outputs": [
        {
          "output_type": "stream",
          "name": "stdout",
          "text": [
            "True\n",
            "50\n",
            "35\n"
          ]
        }
      ]
    },
    {
      "cell_type": "markdown",
      "source": [
        "# **Assignment:20**\n",
        "### **Creating a Custom Exception**\n",
        "Create a custom exception InvalidAgeError. Write a function check_age(age) that raises this exception if age < 18. Handle it with try...except.\n",
        "\n"
      ],
      "metadata": {
        "id": "uEmx8LkYaBIo"
      }
    },
    {
      "cell_type": "code",
      "source": [
        "# Step 1: Define your custom exception\n",
        "class InvalidAgeError(Exception):\n",
        "    \"\"\"Raised when the age is below 18\"\"\"\n",
        "    pass\n",
        "\n",
        "# Step 2: Function to check age\n",
        "def check_age(age):\n",
        "    if age < 18:\n",
        "        raise InvalidAgeError(\"Access denied: Age must be 18 or older.\")\n",
        "    else:\n",
        "        print(\"Access granted: Welcome in!\")\n"
      ],
      "metadata": {
        "id": "-zx0olMXaU3B"
      },
      "execution_count": 3,
      "outputs": []
    },
    {
      "cell_type": "code",
      "source": [
        "try:\n",
        "    age = int(input(\"Enter your age: \"))\n",
        "    check_age(age)\n",
        "except InvalidAgeError as e:\n",
        "    print(\"Caught an exception →\", e)\n",
        "except ValueError:\n",
        "    print(\"Bruh. Enter a valid number next time.\")\n"
      ],
      "metadata": {
        "colab": {
          "base_uri": "https://localhost:8080/"
        },
        "id": "mk85A0Uvbcze",
        "outputId": "450e96e2-3ab1-4bc3-b9a9-5dfc85ae06a9"
      },
      "execution_count": 5,
      "outputs": [
        {
          "output_type": "stream",
          "name": "stdout",
          "text": [
            "Enter your age: 18\n",
            "Access granted: Welcome in!\n"
          ]
        }
      ]
    },
    {
      "cell_type": "markdown",
      "source": [
        "# **Assignment: 21**\n",
        "## ***Make a Custom Class Iterable***\n",
        "Create a class Countdown that takes a start number. Implement __iter__() and __next__() to make the object iterable in a for-loop, counting down to 0."
      ],
      "metadata": {
        "id": "sPWar0oRaLTX"
      }
    },
    {
      "cell_type": "code",
      "source": [
        "class Countdown:\n",
        "    def __init__(self, start, step=1):\n",
        "        self.start = start\n",
        "        self.current = start\n",
        "        self.step = step  # Default step is 1\n",
        "\n",
        "    def __iter__(self):\n",
        "        return self\n",
        "\n",
        "    def __next__(self):\n",
        "        if self.current < 0:\n",
        "            raise StopIteration\n",
        "        value = self.current\n",
        "        self.current -= self.step\n",
        "        return value\n",
        "\n",
        "    def reset(self):\n",
        "        self.current = self.start  # Reset to the original start value\n"
      ],
      "metadata": {
        "id": "uSP2mzWPaVhH"
      },
      "execution_count": 6,
      "outputs": []
    },
    {
      "cell_type": "code",
      "source": [
        "cd = Countdown(10, 2)\n",
        "\n",
        "# First loop\n",
        "for num in cd:\n",
        "    print(num)\n",
        "\n",
        "# # Resetting\n",
        "# print(\"\\nResetting...\\n\")\n",
        "# cd.reset()\n",
        "\n",
        "# Second loop after reset\n",
        "for num in cd:\n",
        "    print(num)\n"
      ],
      "metadata": {
        "colab": {
          "base_uri": "https://localhost:8080/"
        },
        "id": "ZnM6bDyFc-ws",
        "outputId": "4d5b7833-d9fd-4c5f-b5df-3200e98a88c2"
      },
      "execution_count": 11,
      "outputs": [
        {
          "output_type": "stream",
          "name": "stdout",
          "text": [
            "10\n",
            "8\n",
            "6\n",
            "4\n",
            "2\n",
            "0\n"
          ]
        }
      ]
    }
  ]
}